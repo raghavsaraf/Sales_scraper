{
 "cells": [
  {
   "cell_type": "code",
   "execution_count": 2,
   "metadata": {},
   "outputs": [],
   "source": [
    "import time\n",
    "from selenium import webdriver"
   ]
  },
  {
   "cell_type": "code",
   "execution_count": 3,
   "metadata": {
    "scrolled": true
   },
   "outputs": [
    {
     "name": "stdout",
     "output_type": "stream",
     "text": [
      "India News, Latest News Headlines, BSE live, NSE Live, Stock Markets Live, Financial News, Business News & Market Analysis on Indian Economy - Business Standard\n"
     ]
    }
   ],
   "source": [
    "#Code to fetch the title of any website's URL\n",
    "\n",
    "#Loaction of my chromedriver\n",
    "driver=webdriver.Chrome('C:\\Softwares\\chromedriver_win32\\chromedriver.exe')\n",
    "\n",
    "url1=\"https://www.business-standard.com\"\n",
    "url2=\"https://www.gov.uk/\"\n",
    "url3=\"https://www.theguardian.com\"\n",
    "\n",
    "#Fetching the URL and printing its title\n",
    "driver.get(url1)\n",
    "print(driver.title)\n",
    "\n",
    "#Identifying the search area using the specific 'id' present in the html version of the page\n",
    "search_text=driver.find_element_by_id('head-suggest')\n",
    "search_text.send_keys(\"Indian tourists in UK\")\n",
    "\n",
    "#Button accessed using the inspecting feature of Chrome and then copying the Xpath of the button to be clicked\n",
    "search_button=driver.find_element_by_xpath('//*[@id=\"search_btn\"]/input')\n",
    "search_button.click()\n",
    "\n",
    "#print(driver.page_source) #Soups the entire html page\n",
    "\n",
    "#Pause for 10 seconds\n",
    "time.sleep(10)\n",
    "\n",
    "#Quits the browsed page\n",
    "driver.quit()"
   ]
  }
 ],
 "metadata": {
  "kernelspec": {
   "display_name": "Python 3",
   "language": "python",
   "name": "python3"
  },
  "language_info": {
   "codemirror_mode": {
    "name": "ipython",
    "version": 3
   },
   "file_extension": ".py",
   "mimetype": "text/x-python",
   "name": "python",
   "nbconvert_exporter": "python",
   "pygments_lexer": "ipython3",
   "version": "3.6.5"
  }
 },
 "nbformat": 4,
 "nbformat_minor": 2
}
